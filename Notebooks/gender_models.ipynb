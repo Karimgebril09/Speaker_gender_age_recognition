{
 "cells": [
  {
   "cell_type": "code",
   "execution_count": 2,
   "id": "6d1c14a3",
   "metadata": {},
   "outputs": [],
   "source": [
    "import numpy as np\n",
    "import pandas as pd\n",
    "import matplotlib.pyplot as plt\n",
    "\n",
    "from sklearn.preprocessing import StandardScaler\n",
    "from sklearn.metrics import precision_score, recall_score, f1_score\n",
    "from sklearn.model_selection import train_test_split\n",
    "from sklearn.metrics import confusion_matrix, ConfusionMatrixDisplay\n",
    "from sklearn.model_selection import cross_val_score\n"
   ]
  },
  {
   "cell_type": "markdown",
   "id": "e806c143",
   "metadata": {},
   "source": [
    "## gender"
   ]
  },
  {
   "cell_type": "markdown",
   "id": "386eab25",
   "metadata": {},
   "source": []
  },
  {
   "cell_type": "code",
   "execution_count": null,
   "id": "7f07e9c9",
   "metadata": {},
   "outputs": [],
   "source": [
    "twenties_features=pd.read_csv('')\n",
    "twenties_features['age']=0\n",
    "fifties_features=pd.read_csv('')\n",
    "fifties_features['age']=1\n",
    "df=pd.concat([twenties_features,fifties_features],axis=0)"
   ]
  },
  {
   "cell_type": "code",
   "execution_count": null,
   "id": "c809a6dd",
   "metadata": {},
   "outputs": [],
   "source": [
    "## drop the columns that are not needed"
   ]
  },
  {
   "cell_type": "code",
   "execution_count": null,
   "id": "16f309cb",
   "metadata": {},
   "outputs": [],
   "source": [
    "X_train=df.drop(['age'],axis=1)\n",
    "y_train=df['age']\n",
    "X_train, X_test, y_train, y_test = train_test_split(X_train, y_train, test_size=0.1, random_state=42)"
   ]
  },
  {
   "cell_type": "code",
   "execution_count": null,
   "id": "5c9000eb",
   "metadata": {},
   "outputs": [],
   "source": [
    "def evaluate_model(y,y_hat):\n",
    "    precision = precision_score(y, y_hat)\n",
    "    recall = recall_score(y, y_hat)\n",
    "    f1 = f1_score(y, y_hat)\n",
    "    print(f'Precision: {precision:.4f}')\n",
    "    print(f'Recall: {recall:.4f}')\n",
    "    print(f'F1 Score: {f1:.4f}')\n",
    "    \n",
    "    cm = confusion_matrix(y, y_hat)\n",
    "    disp = ConfusionMatrixDisplay(confusion_matrix=cm)\n",
    "    disp.plot()\n",
    "    plt.show()\n"
   ]
  },
  {
   "cell_type": "code",
   "execution_count": null,
   "id": "ca15f391",
   "metadata": {},
   "outputs": [],
   "source": [
    "def scale_data(X_train, X_test):\n",
    "    scaler = StandardScaler()\n",
    "    X_train_scaled = scaler.fit_transform(X_train)\n",
    "    X_test_scaled = scaler.transform(X_test)\n",
    "    return X_train_scaled, X_test_scaled"
   ]
  },
  {
   "cell_type": "markdown",
   "id": "15b218c6",
   "metadata": {},
   "source": [
    "# ML models"
   ]
  },
  {
   "cell_type": "code",
   "execution_count": null,
   "id": "e4490fdb",
   "metadata": {},
   "outputs": [],
   "source": [
    "from sklearn.tree import DecisionTreeClassifier\n",
    "from sklearn.ensemble import RandomForestClassifier\n",
    "from sklearn.svm import SVC\n",
    "from xgboost import XGBClassifier\n",
    "from sklearn.ensemble import AdaBoostClassifier"
   ]
  },
  {
   "cell_type": "code",
   "execution_count": null,
   "id": "29683352",
   "metadata": {},
   "outputs": [],
   "source": [
    "clf=DecisionTreeClassifier(random_state=42)\n",
    "clf.fit(X_train,y_train)\n",
    "y_hat=clf.predict(X_test)\n",
    "evaluate_model(y_test,y_hat)\n",
    "cross_val_score(clf, X_train, y_train, cv=5).mean()"
   ]
  },
  {
   "cell_type": "code",
   "execution_count": null,
   "id": "59862c5c",
   "metadata": {},
   "outputs": [],
   "source": [
    "rfc=RandomForestClassifier(random_state=42)\n",
    "rfc.fit(X_train,y_train)\n",
    "y_hat=rfc.predict(X_test)\n",
    "evaluate_model(y_test,y_hat)\n",
    "cross_val_score(rfc, X_train, y_train, cv=5).mean()"
   ]
  },
  {
   "cell_type": "code",
   "execution_count": null,
   "id": "c2208010",
   "metadata": {},
   "outputs": [],
   "source": [
    "svm=SVC(random_state=42)\n",
    "svm.fit(X_train,y_train)\n",
    "y_hat=svm.predict(X_test)\n",
    "evaluate_model(y_test,y_hat)\n",
    "cross_val_score(svm, X_train, y_train, cv=5).mean()"
   ]
  },
  {
   "cell_type": "code",
   "execution_count": null,
   "id": "03ce5728",
   "metadata": {},
   "outputs": [],
   "source": [
    "xgb=XGBClassifier(random_state=42)\n",
    "xgb.fit(X_train,y_train)\n",
    "y_hat=xgb.predict(X_test)\n",
    "evaluate_model(y_test,y_hat)\n",
    "cross_val_score(xgb, X_train, y_train, cv=5).mean()"
   ]
  },
  {
   "cell_type": "code",
   "execution_count": null,
   "id": "0a1bfa5e",
   "metadata": {},
   "outputs": [],
   "source": [
    "adaboost=AdaBoostClassifier(random_state=42)\n",
    "adaboost.fit(X_train,y_train)\n",
    "y_hat=adaboost.predict(X_test)\n",
    "evaluate_model(y_test,y_hat)\n",
    "cross_val_score(adaboost, X_train, y_train, cv=5).mean()"
   ]
  },
  {
   "cell_type": "markdown",
   "id": "c446fad6",
   "metadata": {},
   "source": [
    "# NN"
   ]
  },
  {
   "cell_type": "code",
   "execution_count": 3,
   "id": "97e23ebd",
   "metadata": {},
   "outputs": [],
   "source": [
    "import tensorflow as tf\n",
    "from tensorflow.keras.models import Sequential\n",
    "from tensorflow.keras.layers import Dense\n"
   ]
  },
  {
   "cell_type": "code",
   "execution_count": 6,
   "id": "30f615fd",
   "metadata": {},
   "outputs": [
    {
     "name": "stdout",
     "output_type": "stream",
     "text": [
      "Num GPUs Available:  0\n"
     ]
    }
   ],
   "source": [
    "\n",
    "print(\"Num GPUs Available: \", len(tf.config.list_physical_devices('GPU')))\n"
   ]
  },
  {
   "cell_type": "code",
   "execution_count": null,
   "id": "7f6279d7",
   "metadata": {},
   "outputs": [],
   "source": [
    "# Replace with your actual input feature size\n",
    "input_dim = 100  # example input size\n",
    "\n",
    "# Build the model\n",
    "model = Sequential([\n",
    "    Dense(64, activation='relu', input_shape=(input_dim,)),  # Hidden layer 1\n",
    "    Dense(32, activation='relu'),                             # Hidden layer 2\n",
    "    Dense(1, activation='sigmoid')                            # Output layer\n",
    "])\n",
    "\n",
    "# Compile it\n",
    "model.compile(\n",
    "    optimizer='adam',\n",
    "    loss='binary_crossentropy',  # Log loss\n",
    "    metrics=['accuracy']\n",
    ")\n",
    "\n",
    "model.fit(X_train, y_train, epochs=10, batch_size=32, validation_split=0.2)\n",
    "y_hat = model.predict(X_test)\n",
    "\n",
    "evaluate_model(y_test, y_hat)\n",
    "cross_val_score(model, X_train, y_train, cv=5).mean()"
   ]
  },
  {
   "cell_type": "code",
   "execution_count": 7,
   "id": "1b6af084",
   "metadata": {},
   "outputs": [
    {
     "name": "stdout",
     "output_type": "stream",
     "text": [
      "Found existing installation: tensorflow 2.13.0\n",
      "Uninstalling tensorflow-2.13.0:\n",
      "  Successfully uninstalled tensorflow-2.13.0\n",
      "Found existing installation: tensorflow-estimator 2.13.0\n",
      "Uninstalling tensorflow-estimator-2.13.0:\n",
      "  Successfully uninstalled tensorflow-estimator-2.13.0\n",
      "Found existing installation: keras 2.13.1\n",
      "Uninstalling keras-2.13.1:\n",
      "  Successfully uninstalled keras-2.13.1\n",
      "Note: you may need to restart the kernel to use updated packages.\n"
     ]
    },
    {
     "name": "stderr",
     "output_type": "stream",
     "text": [
      "WARNING: Ignoring invalid distribution ~ (d:\\anaconda\\Lib\\site-packages)\n",
      "WARNING: Ignoring invalid distribution ~umpy (d:\\anaconda\\Lib\\site-packages)\n",
      "WARNING: Skipping keras-preprocessing as it is not installed.\n"
     ]
    }
   ],
   "source": [
    "%pip uninstall tensorflow tensorflow-estimator keras keras-preprocessing -y"
   ]
  },
  {
   "cell_type": "code",
   "execution_count": 8,
   "id": "e023c7c1",
   "metadata": {},
   "outputs": [
    {
     "name": "stdout",
     "output_type": "stream",
     "text": [
      "Collecting numpy\n",
      "  Downloading numpy-2.2.5-cp311-cp311-win_amd64.whl.metadata (60 kB)\n",
      "Downloading numpy-2.2.5-cp311-cp311-win_amd64.whl (12.9 MB)\n",
      "   ---------------------------------------- 0.0/12.9 MB ? eta -:--:--\n",
      "    --------------------------------------- 0.3/12.9 MB ? eta -:--:--\n",
      "   - -------------------------------------- 0.5/12.9 MB 2.1 MB/s eta 0:00:06\n",
      "   --- ------------------------------------ 1.0/12.9 MB 2.6 MB/s eta 0:00:05\n",
      "   ------ --------------------------------- 2.1/12.9 MB 2.9 MB/s eta 0:00:04\n",
      "   -------- ------------------------------- 2.6/12.9 MB 2.9 MB/s eta 0:00:04\n",
      "   -------- ------------------------------- 2.9/12.9 MB 3.0 MB/s eta 0:00:04\n",
      "   ------------ --------------------------- 4.2/12.9 MB 3.2 MB/s eta 0:00:03\n",
      "   --------------- ------------------------ 5.0/12.9 MB 3.2 MB/s eta 0:00:03\n",
      "   ----------------- ---------------------- 5.8/12.9 MB 3.3 MB/s eta 0:00:03\n",
      "   -------------------- ------------------- 6.6/12.9 MB 3.4 MB/s eta 0:00:02\n",
      "   ---------------------- ----------------- 7.3/12.9 MB 3.4 MB/s eta 0:00:02\n",
      "   ------------------------- -------------- 8.1/12.9 MB 3.5 MB/s eta 0:00:02\n",
      "   --------------------------- ------------ 8.9/12.9 MB 3.5 MB/s eta 0:00:02\n",
      "   ----------------------------- ---------- 9.7/12.9 MB 3.5 MB/s eta 0:00:01\n",
      "   -------------------------------- ------- 10.5/12.9 MB 3.5 MB/s eta 0:00:01\n",
      "   ---------------------------------- ----- 11.3/12.9 MB 3.5 MB/s eta 0:00:01\n",
      "   ------------------------------------- -- 12.1/12.9 MB 3.6 MB/s eta 0:00:01\n",
      "   ---------------------------------------  12.8/12.9 MB 3.6 MB/s eta 0:00:01\n",
      "   ---------------------------------------- 12.9/12.9 MB 3.5 MB/s eta 0:00:00\n",
      "Installing collected packages: numpy\n",
      "Note: you may need to restart the kernel to use updated packages.\n"
     ]
    },
    {
     "name": "stderr",
     "output_type": "stream",
     "text": [
      "WARNING: Ignoring invalid distribution ~ (d:\\anaconda\\Lib\\site-packages)\n",
      "WARNING: Ignoring invalid distribution ~umpy (d:\\anaconda\\Lib\\site-packages)\n",
      "WARNING: Ignoring invalid distribution ~ (d:\\anaconda\\Lib\\site-packages)\n",
      "WARNING: Ignoring invalid distribution ~umpy (d:\\anaconda\\Lib\\site-packages)\n",
      "ERROR: Could not install packages due to an OSError: [WinError 5] Access is denied: 'd:\\\\anaconda\\\\Lib\\\\site-packages\\\\numpy\\\\fft\\\\_pocketfft_umath.cp311-win_amd64.pyd'\n",
      "Consider using the `--user` option or check the permissions.\n",
      "\n"
     ]
    },
    {
     "name": "stdout",
     "output_type": "stream",
     "text": [
      "Note: you may need to restart the kernel to use updated packages.\n"
     ]
    },
    {
     "name": "stderr",
     "output_type": "stream",
     "text": [
      "WARNING: Ignoring invalid distribution ~ (d:\\anaconda\\Lib\\site-packages)\n",
      "WARNING: Ignoring invalid distribution ~umpy (d:\\anaconda\\Lib\\site-packages)\n",
      "ERROR: Could not find a version that satisfies the requirement tensorflow==2.11.0 (from versions: 2.12.0rc0, 2.12.0rc1, 2.12.0, 2.12.1, 2.13.0rc0, 2.13.0rc1, 2.13.0rc2, 2.13.0, 2.13.1, 2.14.0rc0, 2.14.0rc1, 2.14.0, 2.14.1, 2.15.0rc0, 2.15.0rc1, 2.15.0, 2.15.1, 2.16.0rc0, 2.16.1, 2.16.2, 2.17.0rc0, 2.17.0rc1, 2.17.0, 2.17.1, 2.18.0rc0, 2.18.0rc1, 2.18.0rc2, 2.18.0, 2.18.1, 2.19.0rc0, 2.19.0)\n",
      "ERROR: No matching distribution found for tensorflow==2.11.0\n"
     ]
    }
   ],
   "source": [
    "%pip install numpy --upgrade\n",
    "%pip install tensorflow==2.11.0"
   ]
  },
  {
   "cell_type": "code",
   "execution_count": null,
   "id": "a767a326",
   "metadata": {},
   "outputs": [
    {
     "ename": "",
     "evalue": "",
     "output_type": "error",
     "traceback": [
      "\u001b[1;31mThe kernel failed to start as 'TypeAliasType' could not be imported from 'd:\\anaconda\\Lib\\site-packages\\typing_extensions.py'.\n",
      "\u001b[1;31mClick <a href='https://aka.ms/kernelFailuresModuleImportErrFromFile'>here</a> for more info."
     ]
    }
   ],
   "source": [
    "%pip install --force-reinstall -v \"numpy==1.25.2\""
   ]
  },
  {
   "cell_type": "code",
   "execution_count": null,
   "id": "7d603a4c",
   "metadata": {},
   "outputs": [],
   "source": []
  }
 ],
 "metadata": {
  "kernelspec": {
   "display_name": "tf_env",
   "language": "python",
   "name": "python3"
  },
  "language_info": {
   "codemirror_mode": {
    "name": "ipython",
    "version": 3
   },
   "file_extension": ".py",
   "mimetype": "text/x-python",
   "name": "python",
   "nbconvert_exporter": "python",
   "pygments_lexer": "ipython3",
   "version": "3.10.16"
  }
 },
 "nbformat": 4,
 "nbformat_minor": 5
}
