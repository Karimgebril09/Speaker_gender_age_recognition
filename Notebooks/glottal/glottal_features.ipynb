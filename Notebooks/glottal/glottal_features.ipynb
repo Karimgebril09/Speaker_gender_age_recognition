{
 "cells": [
  {
   "cell_type": "markdown",
   "metadata": {},
   "source": [
    "# Extraction of glottal features from audio files\n",
    "\n",
    "Compute features based on the glottal source reconstruction from sustained vowels\n",
    "Nine descriptors are computed:\n",
    "\n",
    "1. Variability of time between consecutive glottal closure instants (GCI)\n",
    "2. Average opening quotient (OQ) for consecutive glottal cycles-> rate of opening phase duration / duration of glottal cycle\n",
    "3. Variability of opening quotient (OQ) for consecutive glottal cycles-> rate of opening phase duration /duration of glottal cycle\n",
    "4. Average normalized amplitude quotient (NAQ) for consecutive glottal cycles-> ratio of the amplitude quotient and the duration of the glottal cycle\n",
    "5. Variability of normalized amplitude quotient (NAQ) for consecutive glottal cycles-> ratio of the amplitude quotient and the duration of the glottal cycle\n",
    "6. Average H1H2: Difference between the first two harmonics of the glottal flow signal\n",
    "7. Variability H1H2: Difference between the first two harmonics of the glottal flow signal\n",
    "8. Average of Harmonic richness factor (HRF): ratio of the sum of the harmonics amplitude and the amplitude of the fundamental frequency\n",
    "9. Variability of HRF\n",
    "\n",
    "--Static or dynamic matrices can be computed:\n",
    "\n",
    "--Static matrix is formed with 36 features formed with (9 descriptors) x (4 functionals: mean, std, skewness, kurtosis)\n",
    "\n",
    "--Dynamic matrix is formed with the 9 descriptors computed for frames of 200 ms length."
   ]
  },
  {
   "cell_type": "code",
   "execution_count": 11,
   "metadata": {},
   "outputs": [],
   "source": [
    "# import sys\n",
    "# # sys.path.append(\"../\")\n",
    "# print(sys.path)\n",
    "import numpy as np\n",
    "import pandas as pd\n",
    "from glottal import Glottal"
   ]
  },
  {
   "cell_type": "code",
   "execution_count": 2,
   "metadata": {},
   "outputs": [],
   "source": [
    "glottalf=Glottal()\n",
    "file_audio=\"../audios/001_readtext_PCGITA.wav\""
   ]
  },
  {
   "cell_type": "markdown",
   "metadata": {},
   "source": [
    "## Extract features and return them as a numpy array"
   ]
  },
  {
   "cell_type": "code",
   "execution_count": 20,
   "metadata": {
    "scrolled": false
   },
   "outputs": [
    {
     "name": "stderr",
     "output_type": "stream",
     "text": [
      "/home/aladdin/me/cmp26/3/2/pattern-recognition/project/Speaker_gender_age_recognition/Notebooks/GCI.py:274: RuntimeWarning: divide by zero encountered in log10\n",
      "  f_spec=20*np.log10(np.abs(np.fft.fft(f_win, fs)))\n"
     ]
    }
   ],
   "source": [
    "features1=glottalf.extract_features_file(file_audio, static=True, plots=False, fmt=\"npy\")"
   ]
  },
  {
   "cell_type": "code",
   "execution_count": 21,
   "metadata": {},
   "outputs": [
    {
     "name": "stdout",
     "output_type": "stream",
     "text": [
      "used general\n"
     ]
    }
   ],
   "source": [
    "features2=glottalf.extract_features_file(file_audio, static=True, plots=False, fmt=\"npy\", general=True)"
   ]
  },
  {
   "cell_type": "code",
   "execution_count": 18,
   "metadata": {},
   "outputs": [
    {
     "name": "stdout",
     "output_type": "stream",
     "text": [
      "[ 3.52637694e-03  5.16052014e-03  3.13140601e-03  2.61152193e-01\n",
      "  2.39859677e-01  1.21485048e+01  9.66461320e+00  5.02069727e-03\n",
      "  2.50342625e-03  9.96783527e-04  1.70564502e-01  3.16361774e-01\n",
      "  4.79026846e+00  3.18451955e+00  4.25562992e+00 -1.53000098e-01\n",
      " -1.05363232e+00  3.04246886e+00  5.13925566e+00 -2.87619217e-01\n",
      " -4.03783454e-01  7.17631355e+00  7.21391412e+00  2.54393678e+01\n",
      " -6.19878305e-01  2.19882579e+00  1.60824027e+01  3.03795199e+01\n",
      " -3.92701594e-01  1.70611389e-01  4.99664115e+01  5.02081597e+01]\n",
      "[[ 3.52637694e-03  5.16052014e-03  3.13140601e-03  2.61152193e-01\n",
      "   2.39859677e-01  1.21485048e+01  9.66461320e+00  9.80000383e+02\n",
      "   4.72589228e+03  5.02069727e-03  2.50342625e-03  9.96783527e-04\n",
      "   1.70564502e-01  3.16361774e-01  4.79026846e+00  3.18451955e+00\n",
      "   7.33095124e+03  3.07047921e+04  4.25562992e+00 -1.53000098e-01\n",
      "  -1.05363232e+00  3.04246886e+00  5.13925566e+00 -2.87619217e-01\n",
      "  -4.03783454e-01  7.17631355e+00  7.21391412e+00  2.54393678e+01\n",
      "  -6.19878305e-01  2.19882579e+00  1.60824027e+01  3.03795199e+01\n",
      "  -3.92701594e-01  1.70611389e-01  4.99664115e+01  5.02081597e+01]]\n",
      "[[ 3.53363600e-03  5.16952415e-03  3.13485111e-03  2.63821371e-01\n",
      "   2.41071906e-01  1.21202366e+01  9.53839160e+00  2.86209460e+02\n",
      "   1.76878199e+03  5.02208537e-03  2.50111357e-03  9.94816932e-04\n",
      "   1.70817793e-01  3.15760779e-01  4.74558931e+00  3.17026433e+00\n",
      "   2.25575326e+03  9.20719039e+03  4.24871463e+00 -1.72954125e-01\n",
      "  -1.08150197e+00  2.99702079e+00  5.15516873e+00 -2.89261595e-01\n",
      "  -3.05780903e-01  6.25615372e+00  6.88084747e+00  2.53885673e+01\n",
      "  -6.23173448e-01  2.21224582e+00  1.58096737e+01  3.05476697e+01\n",
      "  -4.55838382e-01  7.37948121e-03  4.36165059e+01  4.66592278e+01]]\n"
     ]
    }
   ],
   "source": [
    "print(features1[features1 < 200])\n",
    "print(features1)\n",
    "print(features2)"
   ]
  },
  {
   "cell_type": "code",
   "execution_count": 15,
   "metadata": {},
   "outputs": [
    {
     "data": {
      "text/html": [
       "<div>\n",
       "<style scoped>\n",
       "    .dataframe tbody tr th:only-of-type {\n",
       "        vertical-align: middle;\n",
       "    }\n",
       "\n",
       "    .dataframe tbody tr th {\n",
       "        vertical-align: top;\n",
       "    }\n",
       "\n",
       "    .dataframe thead th {\n",
       "        text-align: right;\n",
       "    }\n",
       "</style>\n",
       "<table border=\"1\" class=\"dataframe\">\n",
       "  <thead>\n",
       "    <tr style=\"text-align: right;\">\n",
       "      <th></th>\n",
       "      <th>0</th>\n",
       "      <th>1</th>\n",
       "      <th>2</th>\n",
       "      <th>3</th>\n",
       "      <th>4</th>\n",
       "      <th>5</th>\n",
       "      <th>6</th>\n",
       "      <th>7</th>\n",
       "      <th>8</th>\n",
       "      <th>9</th>\n",
       "      <th>...</th>\n",
       "      <th>26</th>\n",
       "      <th>27</th>\n",
       "      <th>28</th>\n",
       "      <th>29</th>\n",
       "      <th>30</th>\n",
       "      <th>31</th>\n",
       "      <th>32</th>\n",
       "      <th>33</th>\n",
       "      <th>34</th>\n",
       "      <th>35</th>\n",
       "    </tr>\n",
       "  </thead>\n",
       "  <tbody>\n",
       "    <tr>\n",
       "      <th>0</th>\n",
       "      <td>0.003526</td>\n",
       "      <td>0.005161</td>\n",
       "      <td>0.003131</td>\n",
       "      <td>0.261152</td>\n",
       "      <td>0.23986</td>\n",
       "      <td>12.148505</td>\n",
       "      <td>9.664613</td>\n",
       "      <td>980.000383</td>\n",
       "      <td>4725.892281</td>\n",
       "      <td>0.005021</td>\n",
       "      <td>...</td>\n",
       "      <td>7.213914</td>\n",
       "      <td>25.439368</td>\n",
       "      <td>-0.619878</td>\n",
       "      <td>2.198826</td>\n",
       "      <td>16.082403</td>\n",
       "      <td>30.37952</td>\n",
       "      <td>-0.392702</td>\n",
       "      <td>0.170611</td>\n",
       "      <td>49.966412</td>\n",
       "      <td>50.20816</td>\n",
       "    </tr>\n",
       "  </tbody>\n",
       "</table>\n",
       "<p>1 rows × 36 columns</p>\n",
       "</div>"
      ],
      "text/plain": [
       "         0         1         2         3        4          5         6   \\\n",
       "0  0.003526  0.005161  0.003131  0.261152  0.23986  12.148505  9.664613   \n",
       "\n",
       "           7            8         9   ...        26         27        28  \\\n",
       "0  980.000383  4725.892281  0.005021  ...  7.213914  25.439368 -0.619878   \n",
       "\n",
       "         29         30        31        32        33         34        35  \n",
       "0  2.198826  16.082403  30.37952 -0.392702  0.170611  49.966412  50.20816  \n",
       "\n",
       "[1 rows x 36 columns]"
      ]
     },
     "execution_count": 15,
     "metadata": {},
     "output_type": "execute_result"
    }
   ],
   "source": [
    "f1 = pd.DataFrame(features1)\n",
    "f2 = pd.DataFrame(features2)\n",
    "f1.head()\n"
   ]
  },
  {
   "cell_type": "code",
   "execution_count": 16,
   "metadata": {},
   "outputs": [
    {
     "data": {
      "text/html": [
       "<div>\n",
       "<style scoped>\n",
       "    .dataframe tbody tr th:only-of-type {\n",
       "        vertical-align: middle;\n",
       "    }\n",
       "\n",
       "    .dataframe tbody tr th {\n",
       "        vertical-align: top;\n",
       "    }\n",
       "\n",
       "    .dataframe thead th {\n",
       "        text-align: right;\n",
       "    }\n",
       "</style>\n",
       "<table border=\"1\" class=\"dataframe\">\n",
       "  <thead>\n",
       "    <tr style=\"text-align: right;\">\n",
       "      <th></th>\n",
       "      <th>0</th>\n",
       "      <th>1</th>\n",
       "      <th>2</th>\n",
       "      <th>3</th>\n",
       "      <th>4</th>\n",
       "      <th>5</th>\n",
       "      <th>6</th>\n",
       "      <th>7</th>\n",
       "      <th>8</th>\n",
       "      <th>9</th>\n",
       "      <th>...</th>\n",
       "      <th>26</th>\n",
       "      <th>27</th>\n",
       "      <th>28</th>\n",
       "      <th>29</th>\n",
       "      <th>30</th>\n",
       "      <th>31</th>\n",
       "      <th>32</th>\n",
       "      <th>33</th>\n",
       "      <th>34</th>\n",
       "      <th>35</th>\n",
       "    </tr>\n",
       "  </thead>\n",
       "  <tbody>\n",
       "    <tr>\n",
       "      <th>0</th>\n",
       "      <td>0.003534</td>\n",
       "      <td>0.00517</td>\n",
       "      <td>0.003135</td>\n",
       "      <td>0.263821</td>\n",
       "      <td>0.241072</td>\n",
       "      <td>12.120237</td>\n",
       "      <td>9.538392</td>\n",
       "      <td>286.20946</td>\n",
       "      <td>1768.781987</td>\n",
       "      <td>0.005022</td>\n",
       "      <td>...</td>\n",
       "      <td>6.880847</td>\n",
       "      <td>25.388567</td>\n",
       "      <td>-0.623173</td>\n",
       "      <td>2.212246</td>\n",
       "      <td>15.809674</td>\n",
       "      <td>30.54767</td>\n",
       "      <td>-0.455838</td>\n",
       "      <td>0.007379</td>\n",
       "      <td>43.616506</td>\n",
       "      <td>46.659228</td>\n",
       "    </tr>\n",
       "  </tbody>\n",
       "</table>\n",
       "<p>1 rows × 36 columns</p>\n",
       "</div>"
      ],
      "text/plain": [
       "         0        1         2         3         4          5         6   \\\n",
       "0  0.003534  0.00517  0.003135  0.263821  0.241072  12.120237  9.538392   \n",
       "\n",
       "          7            8         9   ...        26         27        28  \\\n",
       "0  286.20946  1768.781987  0.005022  ...  6.880847  25.388567 -0.623173   \n",
       "\n",
       "         29         30        31        32        33         34         35  \n",
       "0  2.212246  15.809674  30.54767 -0.455838  0.007379  43.616506  46.659228  \n",
       "\n",
       "[1 rows x 36 columns]"
      ]
     },
     "execution_count": 16,
     "metadata": {},
     "output_type": "execute_result"
    }
   ],
   "source": [
    "f2.head()"
   ]
  },
  {
   "cell_type": "code",
   "execution_count": 4,
   "metadata": {},
   "outputs": [
    {
     "name": "stdout",
     "output_type": "stream",
     "text": [
      "1\n",
      "(1, 36)\n",
      "1\n",
      "(1, 36)\n"
     ]
    }
   ],
   "source": [
    "print(len(features1))\n",
    "print(features1.shape)\n",
    "\n",
    "print(len(features2))\n",
    "print(features2.shape)"
   ]
  },
  {
   "cell_type": "code",
   "execution_count": null,
   "metadata": {},
   "outputs": [
    {
     "data": {
      "text/plain": [
       "array([[False, False, False, False, False, False, False, False, False,\n",
       "        False, False, False, False, False, False, False, False, False,\n",
       "        False, False, False, False, False, False, False, False, False,\n",
       "        False, False, False, False, False, False, False, False, False]])"
      ]
     },
     "execution_count": 5,
     "metadata": {},
     "output_type": "execute_result"
    }
   ],
   "source": [
    "features1 == features2"
   ]
  },
  {
   "cell_type": "code",
   "execution_count": 19,
   "metadata": {},
   "outputs": [
    {
     "name": "stdout",
     "output_type": "stream",
     "text": [
      "Mean Squared Error: 1.6888122548301414\n"
     ]
    }
   ],
   "source": [
    "mse = np.mean((features1[features1 < 100] - features2[features2 < 100]) ** 2)\n",
    "print(f\"Mean Squared Error: {mse}\")"
   ]
  },
  {
   "cell_type": "markdown",
   "metadata": {},
   "source": [
    "## Extract static features and return them as a dataframe "
   ]
  },
  {
   "cell_type": "code",
   "execution_count": 6,
   "metadata": {},
   "outputs": [
    {
     "name": "stdout",
     "output_type": "stream",
     "text": [
      "   global avg var GCI  global avg avg NAQ  global avg std NAQ  \\\n",
      "0             0.00105            0.004712            0.002313   \n",
      "\n",
      "   global avg avg QOQ  global avg std QOQ  global avg avg H1H2  \\\n",
      "0            0.483546            0.248339            18.348063   \n",
      "\n",
      "   global avg std H1H2  global avg avg HRF  global avg std HRF  \\\n",
      "0            12.408972           56.071506          195.619791   \n",
      "\n",
      "   global std var GCI  ...  global skewness std HRF  global kurtosis var GCI  \\\n",
      "0            0.000279  ...                 2.128254                12.084682   \n",
      "\n",
      "   global kurtosis avg NAQ  global kurtosis std NAQ  global kurtosis avg QOQ  \\\n",
      "0                -0.206489                -0.599053                  0.04543   \n",
      "\n",
      "   global kurtosis std QOQ  global kurtosis avg H1H2  \\\n",
      "0                -0.260547                 -0.494493   \n",
      "\n",
      "   global kurtosis std H1H2  global kurtosis avg HRF  global kurtosis std HRF  \n",
      "0                  1.435911                 2.482266                 4.523592  \n",
      "\n",
      "[1 rows x 36 columns]\n"
     ]
    }
   ],
   "source": [
    "features1=glottalf.extract_features_file(file_audio, static=True, plots=False, fmt=\"csv\")\n",
    "print(features1)"
   ]
  },
  {
   "cell_type": "markdown",
   "metadata": {},
   "source": [
    "## Extract dynamic features and return them as a dataframe"
   ]
  },
  {
   "cell_type": "code",
   "execution_count": 9,
   "metadata": {},
   "outputs": [
    {
     "data": {
      "text/html": [
       "<div>\n",
       "<style scoped>\n",
       "    .dataframe tbody tr th:only-of-type {\n",
       "        vertical-align: middle;\n",
       "    }\n",
       "\n",
       "    .dataframe tbody tr th {\n",
       "        vertical-align: top;\n",
       "    }\n",
       "\n",
       "    .dataframe thead th {\n",
       "        text-align: right;\n",
       "    }\n",
       "</style>\n",
       "<table border=\"1\" class=\"dataframe\">\n",
       "  <thead>\n",
       "    <tr style=\"text-align: right;\">\n",
       "      <th></th>\n",
       "      <th>var GCI</th>\n",
       "      <th>avg NAQ</th>\n",
       "      <th>std NAQ</th>\n",
       "      <th>avg QOQ</th>\n",
       "      <th>std QOQ</th>\n",
       "      <th>avg H1H2</th>\n",
       "      <th>std H1H2</th>\n",
       "      <th>avg HRF</th>\n",
       "      <th>std HRF</th>\n",
       "    </tr>\n",
       "  </thead>\n",
       "  <tbody>\n",
       "    <tr>\n",
       "      <th>0</th>\n",
       "      <td>0.002405</td>\n",
       "      <td>0.004921</td>\n",
       "      <td>0.002326</td>\n",
       "      <td>0.458432</td>\n",
       "      <td>0.256464</td>\n",
       "      <td>24.431431</td>\n",
       "      <td>12.206051</td>\n",
       "      <td>44.903851</td>\n",
       "      <td>170.956369</td>\n",
       "    </tr>\n",
       "    <tr>\n",
       "      <th>1</th>\n",
       "      <td>0.000952</td>\n",
       "      <td>0.004901</td>\n",
       "      <td>0.002396</td>\n",
       "      <td>0.463102</td>\n",
       "      <td>0.257962</td>\n",
       "      <td>20.481655</td>\n",
       "      <td>12.524803</td>\n",
       "      <td>59.413526</td>\n",
       "      <td>128.012155</td>\n",
       "    </tr>\n",
       "    <tr>\n",
       "      <th>2</th>\n",
       "      <td>0.000860</td>\n",
       "      <td>0.004637</td>\n",
       "      <td>0.002754</td>\n",
       "      <td>0.417272</td>\n",
       "      <td>0.286215</td>\n",
       "      <td>20.468120</td>\n",
       "      <td>13.119944</td>\n",
       "      <td>30.793197</td>\n",
       "      <td>108.499991</td>\n",
       "    </tr>\n",
       "    <tr>\n",
       "      <th>3</th>\n",
       "      <td>0.001048</td>\n",
       "      <td>0.004448</td>\n",
       "      <td>0.002680</td>\n",
       "      <td>0.334249</td>\n",
       "      <td>0.228981</td>\n",
       "      <td>24.196630</td>\n",
       "      <td>15.142982</td>\n",
       "      <td>-11.732551</td>\n",
       "      <td>95.183910</td>\n",
       "    </tr>\n",
       "    <tr>\n",
       "      <th>4</th>\n",
       "      <td>0.001077</td>\n",
       "      <td>0.004742</td>\n",
       "      <td>0.002282</td>\n",
       "      <td>0.398391</td>\n",
       "      <td>0.246383</td>\n",
       "      <td>18.933918</td>\n",
       "      <td>14.511940</td>\n",
       "      <td>87.467043</td>\n",
       "      <td>327.429860</td>\n",
       "    </tr>\n",
       "  </tbody>\n",
       "</table>\n",
       "</div>"
      ],
      "text/plain": [
       "    var GCI   avg NAQ   std NAQ   avg QOQ   std QOQ   avg H1H2   std H1H2  \\\n",
       "0  0.002405  0.004921  0.002326  0.458432  0.256464  24.431431  12.206051   \n",
       "1  0.000952  0.004901  0.002396  0.463102  0.257962  20.481655  12.524803   \n",
       "2  0.000860  0.004637  0.002754  0.417272  0.286215  20.468120  13.119944   \n",
       "3  0.001048  0.004448  0.002680  0.334249  0.228981  24.196630  15.142982   \n",
       "4  0.001077  0.004742  0.002282  0.398391  0.246383  18.933918  14.511940   \n",
       "\n",
       "     avg HRF     std HRF  \n",
       "0  44.903851  170.956369  \n",
       "1  59.413526  128.012155  \n",
       "2  30.793197  108.499991  \n",
       "3 -11.732551   95.183910  \n",
       "4  87.467043  327.429860  "
      ]
     },
     "execution_count": 9,
     "metadata": {},
     "output_type": "execute_result"
    }
   ],
   "source": [
    "features1=glottalf.extract_features_file(file_audio, static=False, plots=False, fmt=\"csv\")\n",
    "features1.head()"
   ]
  },
  {
   "cell_type": "code",
   "execution_count": 10,
   "metadata": {},
   "outputs": [
    {
     "data": {
      "text/plain": [
       "(39, 9)"
      ]
     },
     "execution_count": 10,
     "metadata": {},
     "output_type": "execute_result"
    }
   ],
   "source": [
    "features1.shape"
   ]
  },
  {
   "cell_type": "code",
   "execution_count": 12,
   "metadata": {},
   "outputs": [],
   "source": [
    "features2=glottalf.extract_features_file(file_audio, static=True, plots=False, fmt='csv')"
   ]
  },
  {
   "cell_type": "code",
   "execution_count": 13,
   "metadata": {},
   "outputs": [
    {
     "data": {
      "text/html": [
       "<div>\n",
       "<style scoped>\n",
       "    .dataframe tbody tr th:only-of-type {\n",
       "        vertical-align: middle;\n",
       "    }\n",
       "\n",
       "    .dataframe tbody tr th {\n",
       "        vertical-align: top;\n",
       "    }\n",
       "\n",
       "    .dataframe thead th {\n",
       "        text-align: right;\n",
       "    }\n",
       "</style>\n",
       "<table border=\"1\" class=\"dataframe\">\n",
       "  <thead>\n",
       "    <tr style=\"text-align: right;\">\n",
       "      <th></th>\n",
       "      <th>global avg var GCI</th>\n",
       "      <th>global avg avg NAQ</th>\n",
       "      <th>global avg std NAQ</th>\n",
       "      <th>global avg avg QOQ</th>\n",
       "      <th>global avg std QOQ</th>\n",
       "      <th>global avg avg H1H2</th>\n",
       "      <th>global avg std H1H2</th>\n",
       "      <th>global avg avg HRF</th>\n",
       "      <th>global avg std HRF</th>\n",
       "      <th>global std var GCI</th>\n",
       "      <th>...</th>\n",
       "      <th>global skewness std HRF</th>\n",
       "      <th>global kurtosis var GCI</th>\n",
       "      <th>global kurtosis avg NAQ</th>\n",
       "      <th>global kurtosis std NAQ</th>\n",
       "      <th>global kurtosis avg QOQ</th>\n",
       "      <th>global kurtosis std QOQ</th>\n",
       "      <th>global kurtosis avg H1H2</th>\n",
       "      <th>global kurtosis std H1H2</th>\n",
       "      <th>global kurtosis avg HRF</th>\n",
       "      <th>global kurtosis std HRF</th>\n",
       "    </tr>\n",
       "  </thead>\n",
       "  <tbody>\n",
       "    <tr>\n",
       "      <th>0</th>\n",
       "      <td>0.00105</td>\n",
       "      <td>0.004712</td>\n",
       "      <td>0.002313</td>\n",
       "      <td>0.483546</td>\n",
       "      <td>0.248339</td>\n",
       "      <td>18.348063</td>\n",
       "      <td>12.408972</td>\n",
       "      <td>56.071506</td>\n",
       "      <td>195.619791</td>\n",
       "      <td>0.000279</td>\n",
       "      <td>...</td>\n",
       "      <td>2.128254</td>\n",
       "      <td>12.084682</td>\n",
       "      <td>-0.206489</td>\n",
       "      <td>-0.599053</td>\n",
       "      <td>0.04543</td>\n",
       "      <td>-0.260547</td>\n",
       "      <td>-0.494493</td>\n",
       "      <td>1.435911</td>\n",
       "      <td>2.482266</td>\n",
       "      <td>4.523592</td>\n",
       "    </tr>\n",
       "  </tbody>\n",
       "</table>\n",
       "<p>1 rows × 36 columns</p>\n",
       "</div>"
      ],
      "text/plain": [
       "   global avg var GCI  global avg avg NAQ  global avg std NAQ  \\\n",
       "0             0.00105            0.004712            0.002313   \n",
       "\n",
       "   global avg avg QOQ  global avg std QOQ  global avg avg H1H2  \\\n",
       "0            0.483546            0.248339            18.348063   \n",
       "\n",
       "   global avg std H1H2  global avg avg HRF  global avg std HRF  \\\n",
       "0            12.408972           56.071506          195.619791   \n",
       "\n",
       "   global std var GCI  ...  global skewness std HRF  global kurtosis var GCI  \\\n",
       "0            0.000279  ...                 2.128254                12.084682   \n",
       "\n",
       "   global kurtosis avg NAQ  global kurtosis std NAQ  global kurtosis avg QOQ  \\\n",
       "0                -0.206489                -0.599053                  0.04543   \n",
       "\n",
       "   global kurtosis std QOQ  global kurtosis avg H1H2  \\\n",
       "0                -0.260547                 -0.494493   \n",
       "\n",
       "   global kurtosis std H1H2  global kurtosis avg HRF  global kurtosis std HRF  \n",
       "0                  1.435911                 2.482266                 4.523592  \n",
       "\n",
       "[1 rows x 36 columns]"
      ]
     },
     "execution_count": 13,
     "metadata": {},
     "output_type": "execute_result"
    }
   ],
   "source": [
    "features2.head()"
   ]
  },
  {
   "cell_type": "code",
   "execution_count": null,
   "metadata": {},
   "outputs": [
    {
     "data": {
      "text/plain": [
       "(1, 36)"
      ]
     },
     "execution_count": 14,
     "metadata": {},
     "output_type": "execute_result"
    }
   ],
   "source": [
    "features2.shape"
   ]
  },
  {
   "cell_type": "markdown",
   "metadata": {},
   "source": [
    "For females : shimmer, AQ  \n",
    "for males:    To1, OQ1, OQ2, OQa, SQ2  \n",
    "for both:     Tc, HRF, CIQ, OQa, QoQ, SQ2"
   ]
  },
  {
   "cell_type": "code",
   "execution_count": 15,
   "metadata": {},
   "outputs": [
    {
     "data": {
      "text/plain": [
       "Index(['global avg var GCI', 'global avg avg NAQ', 'global avg std NAQ',\n",
       "       'global avg avg QOQ', 'global avg std QOQ', 'global avg avg H1H2',\n",
       "       'global avg std H1H2', 'global avg avg HRF', 'global avg std HRF',\n",
       "       'global std var GCI', 'global std avg NAQ', 'global std std NAQ',\n",
       "       'global std avg QOQ', 'global std std QOQ', 'global std avg H1H2',\n",
       "       'global std std H1H2', 'global std avg HRF', 'global std std HRF',\n",
       "       'global skewness var GCI', 'global skewness avg NAQ',\n",
       "       'global skewness std NAQ', 'global skewness avg QOQ',\n",
       "       'global skewness std QOQ', 'global skewness avg H1H2',\n",
       "       'global skewness std H1H2', 'global skewness avg HRF',\n",
       "       'global skewness std HRF', 'global kurtosis var GCI',\n",
       "       'global kurtosis avg NAQ', 'global kurtosis std NAQ',\n",
       "       'global kurtosis avg QOQ', 'global kurtosis std QOQ',\n",
       "       'global kurtosis avg H1H2', 'global kurtosis std H1H2',\n",
       "       'global kurtosis avg HRF', 'global kurtosis std HRF'],\n",
       "      dtype='object')"
      ]
     },
     "execution_count": 15,
     "metadata": {},
     "output_type": "execute_result"
    }
   ],
   "source": [
    "features2.columns"
   ]
  },
  {
   "cell_type": "markdown",
   "metadata": {},
   "source": [
    "## Extract dynamic features and return them as a torch tensor"
   ]
  },
  {
   "cell_type": "code",
   "execution_count": 7,
   "metadata": {},
   "outputs": [
    {
     "name": "stderr",
     "output_type": "stream",
     "text": [
      "/home/camilo/anaconda3/lib/python3.6/site-packages/numpy/core/_asarray.py:83: VisibleDeprecationWarning: Creating an ndarray from ragged nested sequences (which is a list-or-tuple of lists-or-tuples-or ndarrays with different lengths or shapes) is deprecated. If you meant to do this, you must specify 'dtype=object' when creating the ndarray\n",
      "  return array(a, dtype, copy=False, order=order)\n"
     ]
    },
    {
     "name": "stdout",
     "output_type": "stream",
     "text": [
      "torch.float64\n",
      "torch.Size([19, 9])\n"
     ]
    }
   ],
   "source": [
    "features1=glottalf.extract_features_file(file_audio, static=False, plots=False, fmt=\"torch\")\n",
    "print(features1.dtype)\n",
    "print(features1.size())"
   ]
  },
  {
   "cell_type": "markdown",
   "metadata": {},
   "source": [
    "## Extract static features from a path return them as a numpy array"
   ]
  },
  {
   "cell_type": "code",
   "execution_count": 8,
   "metadata": {},
   "outputs": [
    {
     "name": "stderr",
     "output_type": "stream",
     "text": [
      "Processing 001_readtext_PCGITA.wav:  50%|█████     | 2/4 [01:04<01:00, 30.02s/it]"
     ]
    },
    {
     "name": "stdout",
     "output_type": "stream",
     "text": [
      "Utterance likely to contain creak\n",
      "Utterance likely to contain creak\n",
      "Utterance likely to contain creak\n",
      "Utterance likely to contain creak\n",
      "Utterance likely to contain creak\n",
      "Utterance likely to contain creak\n",
      "Utterance likely to contain creak\n",
      "Utterance likely to contain creak\n",
      "Utterance likely to contain creak\n",
      "Utterance likely to contain creak\n",
      "Utterance likely to contain creak\n",
      "Utterance likely to contain creak\n",
      "Utterance likely to contain creak\n",
      "Utterance likely to contain creak\n",
      "Utterance likely to contain creak\n",
      "Utterance likely to contain creak\n",
      "Utterance likely to contain creak\n",
      "Utterance likely to contain creak\n",
      "Utterance likely to contain creak\n"
     ]
    },
    {
     "name": "stderr",
     "output_type": "stream",
     "text": [
      "Processing 098_u1_PCGITA.wav: 100%|██████████| 4/4 [03:49<00:00, 57.34s/it]      "
     ]
    },
    {
     "name": "stdout",
     "output_type": "stream",
     "text": [
      "(4, 36)\n"
     ]
    },
    {
     "name": "stderr",
     "output_type": "stream",
     "text": [
      "\n"
     ]
    }
   ],
   "source": [
    "path_audio=\"../audios/\"\n",
    "features1=glottalf.extract_features_path(path_audio, static=True, plots=False, fmt=\"npy\")\n",
    "print(features1.shape)"
   ]
  }
 ],
 "metadata": {
  "kernelspec": {
   "display_name": "base",
   "language": "python",
   "name": "python3"
  },
  "language_info": {
   "codemirror_mode": {
    "name": "ipython",
    "version": 3
   },
   "file_extension": ".py",
   "mimetype": "text/x-python",
   "name": "python",
   "nbconvert_exporter": "python",
   "pygments_lexer": "ipython3",
   "version": "3.12.2"
  }
 },
 "nbformat": 4,
 "nbformat_minor": 2
}
