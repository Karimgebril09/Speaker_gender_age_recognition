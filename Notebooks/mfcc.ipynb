{
 "cells": [
  {
   "cell_type": "code",
   "execution_count": 1,
   "id": "4f5338c7",
   "metadata": {},
   "outputs": [],
   "source": [
    "import pandas as pd\n",
    "import numpy as np\n",
    "import librosa\n",
    "import parselmouth\n",
    "import noisereduce as nr\n",
    "import glob\n",
    "\n",
    "from joblib import Parallel, delayed\n",
    "from tqdm import tqdm\n",
    "from parselmouth.praat import call\n",
    "from concurrent.futures import ThreadPoolExecutor"
   ]
  },
  {
   "cell_type": "code",
   "execution_count": 2,
   "id": "54440b97",
   "metadata": {},
   "outputs": [],
   "source": [
    "def remove_silence(audio):\n",
    "    unsilenced = []\n",
    "    time_intervals = librosa.effects.split(audio, top_db=25, ref=np.max).tolist()\n",
    "    for start, end in time_intervals:\n",
    "        unsilenced += audio.tolist()[start:end+1]\n",
    "    unsilenced = np.array(unsilenced)\n",
    "\n",
    "    return unsilenced\n",
    "\n",
    "def normalize(audio): \n",
    "    rms = np.sqrt(np.mean(audio**2))\n",
    "    current_db = 20 * np.log10(rms)\n",
    "    target_db = -20.0\n",
    "    gain = target_db - current_db\n",
    "    audio_normalized = audio * (10**(gain / 20))\n",
    "    return audio_normalized"
   ]
  },
  {
   "cell_type": "code",
   "execution_count": 3,
   "id": "d1ecda3c",
   "metadata": {},
   "outputs": [
    {
     "name": "stdout",
     "output_type": "stream",
     "text": [
      "['voiceID', 'mean_1', 'mean_2', 'mean_3', 'mean_4', 'mean_5', 'mean_6', 'mean_7', 'mean_8', 'mean_9', 'mean_10', 'mean_11', 'mean_12', 'mean_13', 'var_1', 'var_2', 'var_3', 'var_4', 'var_5', 'var_6', 'var_7', 'var_8', 'var_9', 'var_10', 'var_11', 'var_12', 'var_13', 'min_1', 'min_2', 'min_3', 'min_4', 'min_5', 'min_6', 'min_7', 'min_8', 'min_9', 'min_10', 'min_11', 'min_12', 'min_13', 'max_1', 'max_2', 'max_3', 'max_4', 'max_5', 'max_6', 'max_7', 'max_8', 'max_9', 'max_10', 'max_11', 'max_12', 'max_13', 'p25_1', 'p25_2', 'p25_3', 'p25_4', 'p25_5', 'p25_6', 'p25_7', 'p25_8', 'p25_9', 'p25_10', 'p25_11', 'p25_12', 'p25_13', 'p75_1', 'p75_2', 'p75_3', 'p75_4', 'p75_5', 'p75_6', 'p75_7', 'p75_8', 'p75_9', 'p75_10', 'p75_11', 'p75_12', 'p75_13']\n"
     ]
    }
   ],
   "source": [
    "x = ['mean', 'var', 'min', 'max', 'p25', 'p75']\n",
    "mfccColumns = [ f'{att}_{i}' for att in x for i in range(1, 14)]\n",
    "mfccColumns.insert(0, 'voiceID')\n",
    "print(mfccColumns)"
   ]
  },
  {
   "cell_type": "code",
   "execution_count": 4,
   "id": "bfd1b8a6",
   "metadata": {},
   "outputs": [],
   "source": [
    "def extract_mfcc_statistics(audio, sr, n_mfcc=13):\n",
    "    # Extract MFCC features\n",
    "    mfccs = librosa.feature.mfcc(y=audio, sr=sr, n_mfcc=n_mfcc)\n",
    "    \n",
    "    # Compute statistical summaries for each MFCC coefficient\n",
    "    mfccs_mean = np.mean(mfccs, axis=1)  # Mean\n",
    "    mfccs_var = np.var(mfccs, axis=1)    # Variance\n",
    "    mfccs_min = np.min(mfccs, axis=1)    # Minimum\n",
    "    mfccs_max = np.max(mfccs, axis=1)    # Maximum\n",
    "    mfccs_percentile_25 = np.percentile(mfccs, 25, axis=1)  # 25th percentile\n",
    "    mfccs_percentile_75 = np.percentile(mfccs, 75, axis=1)  # 75th percentile\n",
    "    \n",
    "    # Combine all statistics into a single feature vector\n",
    "    mfcc_statistics = np.concatenate([\n",
    "        mfccs_mean, mfccs_var, mfccs_min, mfccs_max, \n",
    "        mfccs_percentile_25, mfccs_percentile_75\n",
    "    ])\n",
    "    \n",
    "    return mfcc_statistics"
   ]
  },
  {
   "cell_type": "code",
   "execution_count": 5,
   "id": "51e2b392",
   "metadata": {},
   "outputs": [
    {
     "data": {
      "text/html": [
       "<div>\n",
       "<style scoped>\n",
       "    .dataframe tbody tr th:only-of-type {\n",
       "        vertical-align: middle;\n",
       "    }\n",
       "\n",
       "    .dataframe tbody tr th {\n",
       "        vertical-align: top;\n",
       "    }\n",
       "\n",
       "    .dataframe thead th {\n",
       "        text-align: right;\n",
       "    }\n",
       "</style>\n",
       "<table border=\"1\" class=\"dataframe\">\n",
       "  <thead>\n",
       "    <tr style=\"text-align: right;\">\n",
       "      <th></th>\n",
       "      <th>client_id</th>\n",
       "      <th>path</th>\n",
       "      <th>sentence</th>\n",
       "      <th>up_votes</th>\n",
       "      <th>down_votes</th>\n",
       "      <th>age</th>\n",
       "      <th>gender</th>\n",
       "      <th>accent</th>\n",
       "      <th>label</th>\n",
       "    </tr>\n",
       "  </thead>\n",
       "  <tbody>\n",
       "    <tr>\n",
       "      <th>0</th>\n",
       "      <td>5001d9a0d3f8f5aae6f386f70713b2d5d046edc7ba0068...</td>\n",
       "      <td>common_voice_en_19687170.mp3</td>\n",
       "      <td>He associated with the Formists.</td>\n",
       "      <td>2</td>\n",
       "      <td>1</td>\n",
       "      <td>fifties</td>\n",
       "      <td>female</td>\n",
       "      <td>us</td>\n",
       "      <td>3</td>\n",
       "    </tr>\n",
       "    <tr>\n",
       "      <th>1</th>\n",
       "      <td>5001d9a0d3f8f5aae6f386f70713b2d5d046edc7ba0068...</td>\n",
       "      <td>common_voice_en_19687171.mp3</td>\n",
       "      <td>The \"ultra accelerator\" injection gives Derric...</td>\n",
       "      <td>2</td>\n",
       "      <td>1</td>\n",
       "      <td>fifties</td>\n",
       "      <td>female</td>\n",
       "      <td>us</td>\n",
       "      <td>3</td>\n",
       "    </tr>\n",
       "    <tr>\n",
       "      <th>2</th>\n",
       "      <td>5001d9a0d3f8f5aae6f386f70713b2d5d046edc7ba0068...</td>\n",
       "      <td>common_voice_en_19687172.mp3</td>\n",
       "      <td>Despite running as a joke, candidates have won...</td>\n",
       "      <td>2</td>\n",
       "      <td>0</td>\n",
       "      <td>fifties</td>\n",
       "      <td>female</td>\n",
       "      <td>us</td>\n",
       "      <td>3</td>\n",
       "    </tr>\n",
       "  </tbody>\n",
       "</table>\n",
       "</div>"
      ],
      "text/plain": [
       "                                           client_id  \\\n",
       "0  5001d9a0d3f8f5aae6f386f70713b2d5d046edc7ba0068...   \n",
       "1  5001d9a0d3f8f5aae6f386f70713b2d5d046edc7ba0068...   \n",
       "2  5001d9a0d3f8f5aae6f386f70713b2d5d046edc7ba0068...   \n",
       "\n",
       "                           path  \\\n",
       "0  common_voice_en_19687170.mp3   \n",
       "1  common_voice_en_19687171.mp3   \n",
       "2  common_voice_en_19687172.mp3   \n",
       "\n",
       "                                            sentence  up_votes  down_votes  \\\n",
       "0                   He associated with the Formists.         2           1   \n",
       "1  The \"ultra accelerator\" injection gives Derric...         2           1   \n",
       "2  Despite running as a joke, candidates have won...         2           0   \n",
       "\n",
       "       age  gender accent  label  \n",
       "0  fifties  female     us      3  \n",
       "1  fifties  female     us      3  \n",
       "2  fifties  female     us      3  "
      ]
     },
     "execution_count": 5,
     "metadata": {},
     "output_type": "execute_result"
    }
   ],
   "source": [
    "dfLabel = pd.read_csv('filtered_data_labeled.tsv', sep='\\t')\n",
    "dfLabel.head(3)"
   ]
  },
  {
   "cell_type": "code",
   "execution_count": 8,
   "id": "1bd92597",
   "metadata": {},
   "outputs": [],
   "source": [
    "# List all audio files\n",
    "# audio_files = dfLabel['path'].toList()\n",
    "audio_files = glob.glob(\"../audio/*\")\n",
    "\n",
    "BATCH_SIZE = 1500"
   ]
  },
  {
   "cell_type": "code",
   "execution_count": 9,
   "id": "cb3f2008",
   "metadata": {},
   "outputs": [
    {
     "name": "stderr",
     "output_type": "stream",
     "text": [
      "  5%|▌         | 80/1500 [00:08<03:07,  7.56it/s]/tmp/ipykernel_28068/3487821810.py:9: UserWarning: PySoundFile failed. Trying audioread instead.\n"
     ]
    },
    {
     "name": "stdout",
     "output_type": "stream",
     "text": [
      "Failed to process ../audio/common_voice_en_675766.mp3: \n"
     ]
    },
    {
     "name": "stderr",
     "output_type": "stream",
     "text": [
      " 11%|█         | 160/1500 [00:18<02:58,  7.49it/s]/tmp/ipykernel_28068/3487821810.py:9: UserWarning: PySoundFile failed. Trying audioread instead.\n",
      "/home/aladdin/anaconda3/lib/python3.12/site-packages/librosa/core/audio.py:184: FutureWarning: librosa.core.audio.__audioread_load\n",
      "\tDeprecated as of librosa version 0.10.0.\n",
      "\tIt will be removed in librosa version 1.0.\n",
      "  y, sr_native = __audioread_load(path, offset, duration, dtype)\n",
      " 11%|█         | 168/1500 [00:19<02:31,  8.76it/s]"
     ]
    },
    {
     "name": "stdout",
     "output_type": "stream",
     "text": [
      "Failed to process ../audio/common_voice_en_682788.mp3: \n"
     ]
    },
    {
     "name": "stderr",
     "output_type": "stream",
     "text": [
      " 42%|████▏     | 632/1500 [01:16<01:53,  7.68it/s]/tmp/ipykernel_28068/3487821810.py:9: UserWarning: PySoundFile failed. Trying audioread instead.\n",
      "/home/aladdin/anaconda3/lib/python3.12/site-packages/librosa/core/audio.py:184: FutureWarning: librosa.core.audio.__audioread_load\n",
      "\tDeprecated as of librosa version 0.10.0.\n",
      "\tIt will be removed in librosa version 1.0.\n",
      "  y, sr_native = __audioread_load(path, offset, duration, dtype)\n"
     ]
    },
    {
     "name": "stdout",
     "output_type": "stream",
     "text": [
      "Failed to process ../audio/common_voice_en_85538.mp3: \n"
     ]
    },
    {
     "name": "stderr",
     "output_type": "stream",
     "text": [
      " 58%|█████▊    | 864/1500 [01:47<01:25,  7.40it/s]/tmp/ipykernel_28068/3487821810.py:9: UserWarning: PySoundFile failed. Trying audioread instead.\n",
      "/home/aladdin/anaconda3/lib/python3.12/site-packages/librosa/core/audio.py:184: FutureWarning: librosa.core.audio.__audioread_load\n",
      "\tDeprecated as of librosa version 0.10.0.\n",
      "\tIt will be removed in librosa version 1.0.\n",
      "  y, sr_native = __audioread_load(path, offset, duration, dtype)\n"
     ]
    },
    {
     "name": "stdout",
     "output_type": "stream",
     "text": [
      "Failed to process ../audio/common_voice_en_675768.mp3: \n"
     ]
    },
    {
     "name": "stderr",
     "output_type": "stream",
     "text": [
      "100%|██████████| 1500/1500 [03:07<00:00,  8.00it/s]\n"
     ]
    },
    {
     "name": "stdout",
     "output_type": "stream",
     "text": [
      "Saved batch 0 with 1496 entries.\n"
     ]
    },
    {
     "name": "stderr",
     "output_type": "stream",
     "text": [
      " 10%|▉         | 144/1500 [00:16<02:51,  7.89it/s]/tmp/ipykernel_28068/3487821810.py:9: UserWarning: PySoundFile failed. Trying audioread instead.\n",
      " 10%|█         | 152/1500 [00:17<02:46,  8.10it/s]"
     ]
    },
    {
     "name": "stdout",
     "output_type": "stream",
     "text": [
      "Failed to process ../audio/common_voice_en_682785.mp3: \n"
     ]
    },
    {
     "name": "stderr",
     "output_type": "stream",
     "text": [
      " 23%|██▎       | 352/1500 [00:42<02:12,  8.64it/s]/tmp/ipykernel_28068/3487821810.py:9: UserWarning: PySoundFile failed. Trying audioread instead.\n",
      " 24%|██▍       | 360/1500 [00:43<02:12,  8.62it/s]"
     ]
    },
    {
     "name": "stdout",
     "output_type": "stream",
     "text": [
      "Failed to process ../audio/common_voice_en_85541.mp3: \n"
     ]
    },
    {
     "name": "stderr",
     "output_type": "stream",
     "text": [
      " 25%|██▌       | 376/1500 [00:45<02:24,  7.79it/s]/tmp/ipykernel_28068/3487821810.py:9: UserWarning: PySoundFile failed. Trying audioread instead.\n"
     ]
    },
    {
     "name": "stdout",
     "output_type": "stream",
     "text": [
      "Failed to process ../audio/common_voice_en_682778.mp3: \n"
     ]
    },
    {
     "name": "stderr",
     "output_type": "stream",
     "text": [
      " 26%|██▌       | 384/1500 [00:46<02:17,  8.12it/s]/tmp/ipykernel_28068/3487821810.py:9: UserWarning: PySoundFile failed. Trying audioread instead.\n",
      "/home/aladdin/anaconda3/lib/python3.12/site-packages/librosa/core/audio.py:184: FutureWarning: librosa.core.audio.__audioread_load\n",
      "\tDeprecated as of librosa version 0.10.0.\n",
      "\tIt will be removed in librosa version 1.0.\n",
      "  y, sr_native = __audioread_load(path, offset, duration, dtype)\n",
      " 26%|██▌       | 392/1500 [00:47<02:17,  8.04it/s]"
     ]
    },
    {
     "name": "stdout",
     "output_type": "stream",
     "text": [
      "Failed to process ../audio/common_voice_en_682782.mp3: \n"
     ]
    },
    {
     "name": "stderr",
     "output_type": "stream",
     "text": [
      " 35%|███▌      | 528/1500 [01:06<02:33,  6.33it/s]/tmp/ipykernel_28068/3487821810.py:9: UserWarning: PySoundFile failed. Trying audioread instead.\n",
      " 36%|███▌      | 536/1500 [01:06<02:18,  6.94it/s]"
     ]
    },
    {
     "name": "stdout",
     "output_type": "stream",
     "text": [
      "Failed to process ../audio/common_voice_en_85537.mp3: \n"
     ]
    },
    {
     "name": "stderr",
     "output_type": "stream",
     "text": [
      "/tmp/ipykernel_28068/3487821810.py:9: UserWarning: PySoundFile failed. Trying audioread instead.\n",
      " 36%|███▋      | 544/1500 [01:07<02:11,  7.30it/s]"
     ]
    },
    {
     "name": "stdout",
     "output_type": "stream",
     "text": [
      "Failed to process ../audio/common_voice_en_682789.mp3: \n"
     ]
    },
    {
     "name": "stderr",
     "output_type": "stream",
     "text": [
      " 60%|█████▉    | 896/1500 [01:52<01:17,  7.79it/s]/tmp/ipykernel_28068/3487821810.py:9: UserWarning: PySoundFile failed. Trying audioread instead.\n"
     ]
    },
    {
     "name": "stdout",
     "output_type": "stream",
     "text": [
      "Failed to process ../audio/common_voice_en_682779.mp3: \n"
     ]
    },
    {
     "name": "stderr",
     "output_type": "stream",
     "text": [
      " 61%|██████    | 912/1500 [01:54<01:09,  8.41it/s]/tmp/ipykernel_28068/3487821810.py:9: UserWarning: PySoundFile failed. Trying audioread instead.\n",
      " 61%|██████▏   | 920/1500 [01:54<01:03,  9.11it/s]"
     ]
    },
    {
     "name": "stdout",
     "output_type": "stream",
     "text": [
      "Failed to process ../audio/common_voice_en_85542.mp3: \n"
     ]
    },
    {
     "name": "stderr",
     "output_type": "stream",
     "text": [
      " 80%|████████  | 1200/1500 [02:30<00:36,  8.28it/s]/tmp/ipykernel_28068/3487821810.py:9: UserWarning: PySoundFile failed. Trying audioread instead.\n"
     ]
    },
    {
     "name": "stdout",
     "output_type": "stream",
     "text": [
      "Failed to process ../audio/common_voice_en_682784.mp3: \n"
     ]
    },
    {
     "name": "stderr",
     "output_type": "stream",
     "text": [
      "100%|██████████| 1500/1500 [03:07<00:00,  8.01it/s]\n"
     ]
    },
    {
     "name": "stdout",
     "output_type": "stream",
     "text": [
      "Saved batch 1 with 1491 entries.\n"
     ]
    },
    {
     "name": "stderr",
     "output_type": "stream",
     "text": [
      " 31%|███       | 240/784 [00:31<01:08,  7.99it/s]/tmp/ipykernel_28068/3487821810.py:9: UserWarning: PySoundFile failed. Trying audioread instead.\n"
     ]
    },
    {
     "name": "stdout",
     "output_type": "stream",
     "text": [
      "Failed to process ../audio/common_voice_en_682786.mp3: \n"
     ]
    },
    {
     "name": "stderr",
     "output_type": "stream",
     "text": [
      "100%|██████████| 784/784 [02:01<00:00,  6.44it/s]\n"
     ]
    },
    {
     "name": "stdout",
     "output_type": "stream",
     "text": [
      "Saved batch 2 with 783 entries.\n"
     ]
    }
   ],
   "source": [
    "# Create an empty DataFrame\n",
    "df = pd.DataFrame(columns=mfccColumns)\n",
    "\n",
    "# Function to extract features from a single audio file\n",
    "def extract_features(file_path):\n",
    "    global mfccColumns\n",
    "    try:\n",
    "        # Load and preprocess the audio\n",
    "        audio, sr = librosa.load(file_path, sr=None, mono=True)\n",
    "        audio = remove_silence(audio)\n",
    "        audio = normalize(audio)\n",
    "        audio = nr.reduce_noise(y=audio, sr=sr)\n",
    "\n",
    "        mfcc_stats = extract_mfcc_statistics(audio, sr)\n",
    "        mfcc_stats = mfcc_stats.tolist()\n",
    "        mfcc_stats.insert(0, file_path)\n",
    "\n",
    "        f = { key: val for key, val in zip(mfccColumns, mfcc_stats)}\n",
    "\n",
    "        return f\n",
    "    except Exception as e:\n",
    "        print(f\"Failed to process {file_path}: {e}\")\n",
    "        return None\n",
    "\n",
    "# Parallel processing of audio files\n",
    "def process_audio_files(audio_files, type):\n",
    "    for i in range(0, len(audio_files), BATCH_SIZE):\n",
    "        batch_files = audio_files[i:i + BATCH_SIZE]\n",
    "        res = Parallel(n_jobs=-1)(\n",
    "            delayed(extract_features)(file_path) for file_path in tqdm(batch_files)\n",
    "        )\n",
    "\n",
    "        filtered_res = [item for item in res if item is not None]\n",
    "        df = pd.DataFrame(filtered_res)\n",
    "        df.to_csv(f\"../CSVs/{type}_{i // BATCH_SIZE}.csv\", index=False)\n",
    "        print(f\"Saved batch {i // BATCH_SIZE} with {len(df)} entries.\")\n",
    "        del df  # Free memory\n",
    "\n",
    "\n",
    "# Process files in parallel\n",
    "process_audio_files(audio_files, \"general\")\n",
    "\n"
   ]
  },
  {
   "cell_type": "code",
   "execution_count": null,
   "id": "bcfbe970",
   "metadata": {},
   "outputs": [],
   "source": []
  }
 ],
 "metadata": {
  "kernelspec": {
   "display_name": "base",
   "language": "python",
   "name": "python3"
  },
  "language_info": {
   "codemirror_mode": {
    "name": "ipython",
    "version": 3
   },
   "file_extension": ".py",
   "mimetype": "text/x-python",
   "name": "python",
   "nbconvert_exporter": "python",
   "pygments_lexer": "ipython3",
   "version": "3.12.2"
  }
 },
 "nbformat": 4,
 "nbformat_minor": 5
}
