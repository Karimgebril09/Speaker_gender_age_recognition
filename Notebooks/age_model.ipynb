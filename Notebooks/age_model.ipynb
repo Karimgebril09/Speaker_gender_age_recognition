{
 "cells": [
  {
   "cell_type": "code",
   "execution_count": 1,
   "id": "6d1c14a3",
   "metadata": {},
   "outputs": [],
   "source": [
    "import numpy as np\n",
    "import pandas as pd\n",
    "import matplotlib.pyplot as plt\n",
    "\n",
    "from sklearn.preprocessing import StandardScaler\n",
    "from sklearn.metrics import precision_score, recall_score, f1_score\n",
    "from sklearn.model_selection import train_test_split\n",
    "from sklearn.metrics import confusion_matrix, ConfusionMatrixDisplay\n",
    "from sklearn.model_selection import cross_val_score\n"
   ]
  },
  {
   "cell_type": "markdown",
   "id": "e806c143",
   "metadata": {},
   "source": [
    "## gender"
   ]
  },
  {
   "cell_type": "markdown",
   "id": "386eab25",
   "metadata": {},
   "source": []
  },
  {
   "cell_type": "code",
   "execution_count": null,
   "id": "7f07e9c9",
   "metadata": {},
   "outputs": [],
   "source": [
    "males1= pd.read_csv('../CSVs/general_0.csv')\n",
    "males2= pd.read_csv('../CSVs/general_1.csv')\n",
    "females1= pd.read_csv('../CSVs/females_0.csv')\n",
    "females2= pd.read_csv('../CSVs/females_1.csv')\n",
    "\n",
    "males= pd.concat([males1, males2], axis=0)\n",
    "females=pd.concat([females1, females2], axis=0)\n",
    "males['gender']=1\n",
    "females['gender']=0\n",
    "df=pd.concat([males,females], axis=0)\n"
   ]
  },
  {
   "cell_type": "code",
   "execution_count": 15,
   "id": "db27f8d8",
   "metadata": {},
   "outputs": [],
   "source": [
    "df=pd.read_csv('males_females.csv')"
   ]
  },
  {
   "cell_type": "code",
   "execution_count": 10,
   "id": "4f01979d",
   "metadata": {},
   "outputs": [],
   "source": [
    "df.to_csv('males_females_mfcc.csv', index=False)"
   ]
  },
  {
   "cell_type": "code",
   "execution_count": 16,
   "id": "3eb9e89f",
   "metadata": {},
   "outputs": [
    {
     "data": {
      "text/plain": [
       "<Axes: xlabel='gender'>"
      ]
     },
     "execution_count": 16,
     "metadata": {},
     "output_type": "execute_result"
    },
    {
     "data": {
      "image/png": "[encoded data removed]",
      "text/plain": [
       "<Figure size 640x480 with 1 Axes>"
      ]
     },
     "metadata": {},
     "output_type": "display_data"
    }
   ],
   "source": [
    "df['gender'].value_counts().plot(kind='bar')"
   ]
  },
  {
   "cell_type": "code",
   "execution_count": 18,
   "id": "c809a6dd",
   "metadata": {},
   "outputs": [
    {
     "data": {
      "text/html": [
       "<div>\n",
       "<style scoped>\n",
       "    .dataframe tbody tr th:only-of-type {\n",
       "        vertical-align: middle;\n",
       "    }\n",
       "\n",
       "    .dataframe tbody tr th {\n",
       "        vertical-align: top;\n",
       "    }\n",
       "\n",
       "    .dataframe thead th {\n",
       "        text-align: right;\n",
       "    }\n",
       "</style>\n",
       "<table border=\"1\" class=\"dataframe\">\n",
       "  <thead>\n",
       "    <tr style=\"text-align: right;\">\n",
       "      <th></th>\n",
       "      <th>meanF0Hz</th>\n",
       "      <th>stdevF0Hz</th>\n",
       "      <th>localabsoluteJitter</th>\n",
       "      <th>f1_median</th>\n",
       "    </tr>\n",
       "  </thead>\n",
       "  <tbody>\n",
       "    <tr>\n",
       "      <th>0</th>\n",
       "      <td>146.321267</td>\n",
       "      <td>17.821462</td>\n",
       "      <td>0.000122</td>\n",
       "      <td>375.828581</td>\n",
       "    </tr>\n",
       "    <tr>\n",
       "      <th>1</th>\n",
       "      <td>122.579712</td>\n",
       "      <td>36.926712</td>\n",
       "      <td>0.000320</td>\n",
       "      <td>410.832627</td>\n",
       "    </tr>\n",
       "    <tr>\n",
       "      <th>2</th>\n",
       "      <td>127.507176</td>\n",
       "      <td>30.732921</td>\n",
       "      <td>0.000159</td>\n",
       "      <td>409.350659</td>\n",
       "    </tr>\n",
       "    <tr>\n",
       "      <th>3</th>\n",
       "      <td>119.343185</td>\n",
       "      <td>22.787241</td>\n",
       "      <td>0.000323</td>\n",
       "      <td>329.179311</td>\n",
       "    </tr>\n",
       "    <tr>\n",
       "      <th>4</th>\n",
       "      <td>127.199478</td>\n",
       "      <td>22.051734</td>\n",
       "      <td>0.000184</td>\n",
       "      <td>510.845232</td>\n",
       "    </tr>\n",
       "    <tr>\n",
       "      <th>...</th>\n",
       "      <td>...</td>\n",
       "      <td>...</td>\n",
       "      <td>...</td>\n",
       "      <td>...</td>\n",
       "    </tr>\n",
       "    <tr>\n",
       "      <th>15813</th>\n",
       "      <td>227.263197</td>\n",
       "      <td>23.322958</td>\n",
       "      <td>0.000094</td>\n",
       "      <td>489.056205</td>\n",
       "    </tr>\n",
       "    <tr>\n",
       "      <th>15814</th>\n",
       "      <td>210.872602</td>\n",
       "      <td>27.579187</td>\n",
       "      <td>0.000059</td>\n",
       "      <td>519.227694</td>\n",
       "    </tr>\n",
       "    <tr>\n",
       "      <th>15815</th>\n",
       "      <td>155.687062</td>\n",
       "      <td>94.826780</td>\n",
       "      <td>0.000218</td>\n",
       "      <td>835.452729</td>\n",
       "    </tr>\n",
       "    <tr>\n",
       "      <th>15816</th>\n",
       "      <td>202.197520</td>\n",
       "      <td>53.548899</td>\n",
       "      <td>0.000095</td>\n",
       "      <td>453.681561</td>\n",
       "    </tr>\n",
       "    <tr>\n",
       "      <th>15817</th>\n",
       "      <td>214.795118</td>\n",
       "      <td>39.632536</td>\n",
       "      <td>0.000083</td>\n",
       "      <td>437.113093</td>\n",
       "    </tr>\n",
       "  </tbody>\n",
       "</table>\n",
       "<p>15818 rows × 4 columns</p>\n",
       "</div>"
      ],
      "text/plain": [
       "         meanF0Hz  stdevF0Hz  localabsoluteJitter   f1_median\n",
       "0      146.321267  17.821462             0.000122  375.828581\n",
       "1      122.579712  36.926712             0.000320  410.832627\n",
       "2      127.507176  30.732921             0.000159  409.350659\n",
       "3      119.343185  22.787241             0.000323  329.179311\n",
       "4      127.199478  22.051734             0.000184  510.845232\n",
       "...           ...        ...                  ...         ...\n",
       "15813  227.263197  23.322958             0.000094  489.056205\n",
       "15814  210.872602  27.579187             0.000059  519.227694\n",
       "15815  155.687062  94.826780             0.000218  835.452729\n",
       "15816  202.197520  53.548899             0.000095  453.681561\n",
       "15817  214.795118  39.632536             0.000083  437.113093\n",
       "\n",
       "[15818 rows x 4 columns]"
      ]
     },
     "execution_count": 18,
     "metadata": {},
     "output_type": "execute_result"
    }
   ],
   "source": [
    "## drop the columns that are not needed\n",
    "selected_columns=['meanF0Hz','stdevF0Hz','localabsoluteJitter','f1_median']\n",
    "general=df.loc[:, selected_columns]\n",
    "general"
   ]
  },
  {
   "cell_type": "code",
   "execution_count": null,
   "id": "16f309cb",
   "metadata": {},
   "outputs": [],
   "source": [
    "X_train=general.drop(['gender'],axis=1)\n",
    "y_train=general['gender']\n",
    "X_train, X_test, y_train, y_test = train_test_split(X_train, y_train, test_size=0.1, random_state=42)"
   ]
  },
  {
   "cell_type": "code",
   "execution_count": null,
   "id": "5c9000eb",
   "metadata": {},
   "outputs": [],
   "source": [
    "def evaluate_model(y,y_hat):\n",
    "    precision = precision_score(y, y_hat)\n",
    "    recall = recall_score(y, y_hat)\n",
    "    f1 = f1_score(y, y_hat)\n",
    "    print(f'Precision: {precision:.4f}')\n",
    "    print(f'Recall: {recall:.4f}')\n",
    "    print(f'F1 Score: {f1:.4f}')\n",
    "    \n",
    "    cm = confusion_matrix(y, y_hat)\n",
    "    disp = ConfusionMatrixDisplay(confusion_matrix=cm)\n",
    "    disp.plot()\n",
    "    plt.show()\n"
   ]
  },
  {
   "cell_type": "code",
   "execution_count": null,
   "id": "ca15f391",
   "metadata": {},
   "outputs": [],
   "source": [
    "def scale_data(X_train, X_test):\n",
    "    scaler = StandardScaler()\n",
    "    X_train_scaled = scaler.fit_transform(X_train)\n",
    "    X_test_scaled = scaler.transform(X_test)\n",
    "    return X_train_scaled, X_test_scaled"
   ]
  },
  {
   "cell_type": "code",
   "execution_count": null,
   "id": "1419a336",
   "metadata": {},
   "outputs": [],
   "source": [
    "X_train_scaled, X_test_scaled = scale_data(X_train, X_test)"
   ]
  },
  {
   "cell_type": "markdown",
   "id": "15b218c6",
   "metadata": {},
   "source": [
    "# ML models"
   ]
  },
  {
   "cell_type": "code",
   "execution_count": null,
   "id": "e4490fdb",
   "metadata": {},
   "outputs": [],
   "source": [
    "from sklearn.tree import DecisionTreeClassifier\n",
    "from sklearn.ensemble import RandomForestClassifier\n",
    "from sklearn.svm import SVC\n",
    "from xgboost import XGBClassifier\n",
    "from sklearn.ensemble import AdaBoostClassifier"
   ]
  },
  {
   "cell_type": "code",
   "execution_count": null,
   "id": "29683352",
   "metadata": {},
   "outputs": [],
   "source": [
    "clf=DecisionTreeClassifier(random_state=42)\n",
    "clf.fit(X_train_scaled,y_train)\n",
    "y_train_hat=clf.predict(X_train_scaled)\n",
    "y_hat=clf.predict(X_test_scaled)\n",
    "print(\"train evaluation\")\n",
    "evaluate_model(y_train,y_train_hat)\n",
    "print(\"train evaluation\")\n",
    "evaluate_model(y_test,y_hat)\n",
    "\n",
    "cross_val_score(clf, X_train_scaled, y_train, cv=5).mean()"
   ]
  },
  {
   "cell_type": "code",
   "execution_count": null,
   "id": "59862c5c",
   "metadata": {},
   "outputs": [],
   "source": [
    "rf=RandomForestClassifier(random_state=42)\n",
    "rf.fit(X_train_scaled,y_train)\n",
    "y_train_hat=rf.predict(X_train_scaled)\n",
    "y_hat=rf.predict(X_test_scaled)\n",
    "print(\"train evaluation\")\n",
    "evaluate_model(y_train,y_train_hat)\n",
    "print(\"train evaluation\")\n",
    "evaluate_model(y_test,y_hat)\n",
    "\n",
    "cross_val_score(rf, X_train_scaled, y_train, cv=5).mean()"
   ]
  },
  {
   "cell_type": "code",
   "execution_count": null,
   "id": "c2208010",
   "metadata": {},
   "outputs": [],
   "source": [
    "svm=SVC(random_state=42)\n",
    "svm.fit(X_train,y_train)\n",
    "y_train_hat=svm.predict(X_train_scaled)\n",
    "y_hat=svm.predict(X_test_scaled)\n",
    "print(\"train evaluation\")\n",
    "evaluate_model(y_train,y_train_hat)\n",
    "print(\"train evaluation\")\n",
    "evaluate_model(y_test,y_hat)\n",
    "\n",
    "cross_val_score(svm, X_train_scaled, y_train, cv=5).mean()"
   ]
  },
  {
   "cell_type": "code",
   "execution_count": null,
   "id": "03ce5728",
   "metadata": {},
   "outputs": [],
   "source": [
    "xgb=XGBClassifier(random_state=42)\n",
    "xgb.fit(X_train,y_train)\n",
    "y_train_hat=xgb.predict(X_train_scaled)\n",
    "y_hat=xgb.predict(X_test_scaled)\n",
    "print(\"train evaluation\")\n",
    "evaluate_model(y_train,y_train_hat)\n",
    "print(\"train evaluation\")\n",
    "evaluate_model(y_test,y_hat)\n",
    "\n",
    "cross_val_score(xgb, X_train_scaled, y_train, cv=5).mean()"
   ]
  },
  {
   "cell_type": "code",
   "execution_count": null,
   "id": "0a1bfa5e",
   "metadata": {},
   "outputs": [],
   "source": [
    "adaboost=AdaBoostClassifier(random_state=42)\n",
    "adaboost.fit(X_train,y_train)\n",
    "y_train_hat=adaboost.predict(X_train_scaled)\n",
    "y_hat=adaboost.predict(X_test_scaled)\n",
    "print(\"train evaluation\")\n",
    "evaluate_model(y_train,y_train_hat)\n",
    "print(\"train evaluation\")\n",
    "evaluate_model(y_test,y_hat)\n",
    "\n",
    "cross_val_score(adaboost, X_train_scaled, y_train, cv=5).mean()"
   ]
  },
  {
   "cell_type": "markdown",
   "id": "c446fad6",
   "metadata": {},
   "source": [
    "# NN"
   ]
  },
  {
   "cell_type": "code",
   "execution_count": 3,
   "id": "97e23ebd",
   "metadata": {},
   "outputs": [],
   "source": [
    "import tensorflow as tf\n",
    "from tensorflow.keras.models import Sequential\n",
    "from tensorflow.keras.layers import Dense\n"
   ]
  },
  {
   "cell_type": "code",
   "execution_count": 6,
   "id": "30f615fd",
   "metadata": {},
   "outputs": [
    {
     "name": "stdout",
     "output_type": "stream",
     "text": [
      "Num GPUs Available:  0\n"
     ]
    }
   ],
   "source": [
    "\n",
    "print(\"Num GPUs Available: \", len(tf.config.list_physical_devices('GPU')))\n"
   ]
  },
  {
   "cell_type": "code",
   "execution_count": null,
   "id": "7f6279d7",
   "metadata": {},
   "outputs": [],
   "source": [
    "# Replace with your actual input feature size\n",
    "input_dim = 100  # example input size\n",
    "\n",
    "# Build the model\n",
    "model = Sequential([\n",
    "    Dense(64, activation='relu', input_shape=(input_dim,)),  # Hidden layer 1\n",
    "    Dense(32, activation='relu'),                             # Hidden layer 2\n",
    "    Dense(1, activation='sigmoid')                            # Output layer\n",
    "])\n",
    "\n",
    "# Compile it\n",
    "model.compile(\n",
    "    optimizer='adam',\n",
    "    loss='binary_crossentropy',  # Log loss\n",
    "    metrics=['accuracy']\n",
    ")\n",
    "\n",
    "model.fit(X_train, y_train, epochs=10, batch_size=32, validation_split=0.2)\n",
    "y_hat = model.predict(X_test)\n",
    "\n",
    "evaluate_model(y_test, y_hat)\n",
    "cross_val_score(model, X_train, y_train, cv=5).mean()"
   ]
  },
  {
   "cell_type": "code",
   "execution_count": null,
   "id": "7d603a4c",
   "metadata": {},
   "outputs": [],
   "source": []
  }
 ],
 "metadata": {
  "kernelspec": {
   "display_name": "tf_env",
   "language": "python",
   "name": "python3"
  },
  "language_info": {
   "codemirror_mode": {
    "name": "ipython",
    "version": 3
   },
   "file_extension": ".py",
   "mimetype": "text/x-python",
   "name": "python",
   "nbconvert_exporter": "python",
   "pygments_lexer": "ipython3",
   "version": "3.10.16"
  }
 },
 "nbformat": 4,
 "nbformat_minor": 5
}
